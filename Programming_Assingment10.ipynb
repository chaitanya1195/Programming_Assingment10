{
 "cells": [
  {
   "cell_type": "code",
   "execution_count": 1,
   "id": "dd4be739",
   "metadata": {},
   "outputs": [
    {
     "name": "stdout",
     "output_type": "stream",
     "text": [
      "The sum of all the numbers in the list is:  28\n"
     ]
    }
   ],
   "source": [
    "# 1.Write a Python program to find sum of elements in list?\n",
    "\n",
    "# List of numbers\n",
    "my_list = [1,2,3,4,5,6,7]\n",
    "\n",
    "#find the sum of all the numbers in the list\n",
    "list_sum = sum(my_list)\n",
    "\n",
    "#print the result\n",
    "print(\"The sum of all the numbers in the list is: \",list_sum)"
   ]
  },
  {
   "cell_type": "code",
   "execution_count": 6,
   "id": "23c61b26",
   "metadata": {},
   "outputs": [
    {
     "name": "stdout",
     "output_type": "stream",
     "text": [
      "The product of all the numbers in the list is:  6720\n"
     ]
    }
   ],
   "source": [
    "# 2.Write a Python program to  Multiply all numbers in the list\n",
    "\n",
    "# sample list\n",
    "my_list = [ 2,4,5,3,7,8]\n",
    "\n",
    "# inititalize a variable to hold the product of all the numbers in the list\n",
    "list_product = 1\n",
    "\n",
    "# loop through the list and multiply each number with the current product\n",
    "for i in my_list:\n",
    "    list_product *= i\n",
    "    \n",
    "# print the product of all the numbers in the list\n",
    "print(\"The product of all the numbers in the list is: \", list_product)"
   ]
  },
  {
   "cell_type": "code",
   "execution_count": 13,
   "id": "f53b1f2e",
   "metadata": {},
   "outputs": [
    {
     "name": "stdout",
     "output_type": "stream",
     "text": [
      "the smallest number in the list is:  1\n"
     ]
    }
   ],
   "source": [
    "# 3.Write a Python program to find smallest number in a list?\n",
    "\n",
    "# defining my list \n",
    "my_list = [2,4,3,6,56,2,9,1]\n",
    "\n",
    "#find the smallest number in the list using the min() function\n",
    "smallest_num = min(my_list)\n",
    "\n",
    "#print the smallest number in the list\n",
    "print(\"the smallest number in the list is: \", smallest_num)"
   ]
  },
  {
   "cell_type": "code",
   "execution_count": 16,
   "id": "35986f27",
   "metadata": {},
   "outputs": [
    {
     "name": "stdout",
     "output_type": "stream",
     "text": [
      "the largest number in the list is:  56\n"
     ]
    }
   ],
   "source": [
    "# 4.Write a Python program to find largest number in a list?\n",
    "\n",
    "# defining my list \n",
    "my_list = [2,4,3,6,56,2,9,1]\n",
    "\n",
    "#find the smallest number in the list using the min() function\n",
    "largest_num = max(my_list)\n",
    "\n",
    "#print the largest number in the list\n",
    "print(\"the largest number in the list is: \", largest_num)"
   ]
  },
  {
   "cell_type": "code",
   "execution_count": 17,
   "id": "3456ae07",
   "metadata": {},
   "outputs": [
    {
     "name": "stdout",
     "output_type": "stream",
     "text": [
      "the second largest number in the list is:  9\n"
     ]
    }
   ],
   "source": [
    "# 5.Write a Python program to find second largest number in a list?\n",
    "\n",
    "# defining my list \n",
    "my_list = [2,4,3,6,56,2,9,1]\n",
    "\n",
    "#find the smallest number in the list using the min() function\n",
    "largest_num = max(my_list)\n",
    "\n",
    "#remove the largest number from the list using remove() function\n",
    "my_list.remove(largest_num)\n",
    "\n",
    "# find the new largest number in the list, which will be the second largest number\n",
    "second_largest_num = max(my_list)\n",
    "\n",
    "#print the second largest number in the list\n",
    "print(\"the second largest number in the list is: \", second_largest_num)"
   ]
  },
  {
   "cell_type": "code",
   "execution_count": 7,
   "id": "1c713c83",
   "metadata": {},
   "outputs": [
    {
     "name": "stdout",
     "output_type": "stream",
     "text": [
      "Enter number of largest number among list3\n",
      "The 3 largest numbers are: [10, 8, 7]\n"
     ]
    }
   ],
   "source": [
    "# 6.Write a Python program to find N largest elements from a list?\n",
    "\n",
    "# define the list of numbers\n",
    "numbers = [1,2,3,4,5,6,7,8,10]\n",
    "\n",
    "# taking input value\n",
    "a = int(input(\"Enter number of largest number among list\"))\n",
    "\n",
    "# define the number of largest numbers to find\n",
    "n = a\n",
    "\n",
    "# Sort the list of numbers from largest to smallest\n",
    "numbers.sort(reverse=True)\n",
    "\n",
    "# Get the first N numbers in the sorted list\n",
    "largest_numbers = numbers[:n]\n",
    "\n",
    "# Print the largest numbers\n",
    "print(\"The\", n, \"largest numbers are:\", largest_numbers)\n"
   ]
  },
  {
   "cell_type": "code",
   "execution_count": 8,
   "id": "7684d4a8",
   "metadata": {},
   "outputs": [
    {
     "name": "stdout",
     "output_type": "stream",
     "text": [
      "2\n",
      "4\n",
      "6\n",
      "8\n",
      "10\n",
      "12\n",
      "14\n"
     ]
    }
   ],
   "source": [
    "# 7.Write a Python program to print even numbers in a list?\n",
    "\n",
    "# Define a list of numbers\n",
    "my_list = [1,2,3,4,5,6,7,8,9,10,12,14,15]\n",
    "\n",
    "#check using '%' operator\n",
    "for i in my_list:\n",
    "    if i % 2 == 0:\n",
    "        print(i)\n"
   ]
  },
  {
   "cell_type": "code",
   "execution_count": 9,
   "id": "524d6eb1",
   "metadata": {},
   "outputs": [
    {
     "name": "stdout",
     "output_type": "stream",
     "text": [
      "1\n",
      "3\n",
      "5\n",
      "7\n",
      "9\n",
      "11\n",
      "17\n"
     ]
    }
   ],
   "source": [
    "# 8.Write a Python program to print odd numbers in a List?\n",
    "\n",
    "# define a list \n",
    "my_list = [1,2,3,4,5,6,7,8,9,10,11,14,16,17]\n",
    "\n",
    "# checking the number is odd or not\n",
    "for i in my_list:\n",
    "    if i % 2 != 0:\n",
    "        print(i)\n"
   ]
  },
  {
   "cell_type": "code",
   "execution_count": 12,
   "id": "a8f56d96",
   "metadata": {},
   "outputs": [
    {
     "name": "stdout",
     "output_type": "stream",
     "text": [
      "[[1, 2, 3], [4, 5], [6]]\n"
     ]
    }
   ],
   "source": [
    "# 9.Write a Python program to Remove empty List from List?\n",
    "\n",
    "list_with_empty_lists = [[1, 2, 3], [], [4, 5], [], [], [6]]\n",
    "\n",
    "# Create a new list to store the non-empty lists\n",
    "list_without_empty_lists = []\n",
    "\n",
    "# Go through each list in the original list\n",
    "for i in list_with_empty_lists:\n",
    "    # If the list is not empty, add it to the new list\n",
    "    if i:\n",
    "        list_without_empty_lists.append(i)\n",
    "\n",
    "print(list_without_empty_lists) # Output: [[1, 2, 3], [4, 5], [6]]"
   ]
  },
  {
   "cell_type": "code",
   "execution_count": 13,
   "id": "920891c6",
   "metadata": {},
   "outputs": [
    {
     "name": "stdout",
     "output_type": "stream",
     "text": [
      "[1, 2, 3, 4, 5]\n"
     ]
    }
   ],
   "source": [
    "# 10.Write a Python program to Cloning or Copying a list?\n",
    "\n",
    "original_list = [1, 2, 3, 4, 5]\n",
    "\n",
    "# Clone the original list using the copy() method\n",
    "cloned_list = original_list.copy()\n",
    "\n",
    "print(cloned_list) # Output: [1, 2, 3, 4, 5]"
   ]
  },
  {
   "cell_type": "code",
   "execution_count": 15,
   "id": "2da82741",
   "metadata": {},
   "outputs": [
    {
     "name": "stdout",
     "output_type": "stream",
     "text": [
      "5\n"
     ]
    }
   ],
   "source": [
    "# 11.Write a Python program to Count occurrences of an element in a list?\n",
    "\n",
    "my_list = [1,2,2,2,2,2,3,4,5,6,7,7,8,8,9,10,12,13,13,14,15,13]\n",
    "\n",
    "# count the number of occurrences of the elements 2 in the list\n",
    "count_of_2 = my_list.count(2)\n",
    "\n",
    "print(count_of_2)\n"
   ]
  },
  {
   "cell_type": "code",
   "execution_count": null,
   "id": "0034e5c6",
   "metadata": {},
   "outputs": [],
   "source": []
  }
 ],
 "metadata": {
  "kernelspec": {
   "display_name": "Python 3 (ipykernel)",
   "language": "python",
   "name": "python3"
  },
  "language_info": {
   "codemirror_mode": {
    "name": "ipython",
    "version": 3
   },
   "file_extension": ".py",
   "mimetype": "text/x-python",
   "name": "python",
   "nbconvert_exporter": "python",
   "pygments_lexer": "ipython3",
   "version": "3.9.13"
  }
 },
 "nbformat": 4,
 "nbformat_minor": 5
}
